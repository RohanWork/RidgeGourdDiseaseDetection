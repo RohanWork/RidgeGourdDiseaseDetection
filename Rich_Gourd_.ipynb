{
  "nbformat": 4,
  "nbformat_minor": 0,
  "metadata": {
    "colab": {
      "name": "Rich Gourd .ipynb",
      "provenance": [],
      "collapsed_sections": [],
      "include_colab_link": true
    },
    "kernelspec": {
      "name": "python3",
      "display_name": "Python 3"
    },
    "language_info": {
      "name": "python"
    },
    "accelerator": "GPU"
  },
  "cells": [
    {
      "cell_type": "markdown",
      "metadata": {
        "id": "view-in-github",
        "colab_type": "text"
      },
      "source": [
        "<a href=\"https://colab.research.google.com/github/RohanWork/RohanWork/blob/main/Rich_Gourd_.ipynb\" target=\"_parent\"><img src=\"https://colab.research.google.com/assets/colab-badge.svg\" alt=\"Open In Colab\"/></a>"
      ]
    },
    {
      "cell_type": "code",
      "metadata": {
        "id": "tdYpPPEjsf8I"
      },
      "source": [
        "# from google.colab import drive\n",
        "# drive.mount('/content/drive/Mydrive/Dataset',force_remount=True)"
      ],
      "execution_count": null,
      "outputs": []
    },
    {
      "cell_type": "code",
      "metadata": {
        "colab": {
          "base_uri": "https://localhost:8080/"
        },
        "id": "EnEkR-BfNplj",
        "outputId": "b8f58c80-9285-453c-ac09-8941fd9e5adb"
      },
      "source": [
        "from google.colab import drive\n",
        "drive.mount('/content/drive')"
      ],
      "execution_count": 1,
      "outputs": [
        {
          "output_type": "stream",
          "name": "stdout",
          "text": [
            "Mounted at /content/drive\n"
          ]
        }
      ]
    },
    {
      "cell_type": "code",
      "metadata": {
        "id": "v1bvfFh_s7Rm",
        "colab": {
          "base_uri": "https://localhost:8080/"
        },
        "outputId": "70179edc-2efe-465b-b835-a0c428d04b03"
      },
      "source": [
        "import numpy as np\n",
        "import cv2\n",
        "import os\n",
        "import pandas as pd\n",
        "import keras\n",
        "import tensorflow\n",
        "from tensorflow.keras import regularizers\n",
        "from tensorflow.keras.optimizers import *\n",
        "from tensorflow.keras.models import Sequential\n",
        "from keras.utils.np_utils import to_categorical\n",
        "from tensorflow.keras.layers import Dense, Dropout, Flatten\n",
        "\n",
        "from tensorflow.keras.layers import BatchNormalization\n",
        "from tensorflow.keras.layers import Conv2D, MaxPooling2D \n",
        "#from keras.layers.convolutional import Conv2D\n",
        "#from keras.layers.convolutional import MaxPooling2D\n",
        "\n",
        "from tensorflow.keras.preprocessing.image import ImageDataGenerator\n",
        "from tensorflow.keras.callbacks import ModelCheckpoint, TensorBoard\n",
        "import warnings\n",
        "warnings.filterwarnings('ignore')\n",
        "import itertools\n",
        "from sklearn.utils import resample\n",
        "from sklearn.model_selection import train_test_split\n",
        "from sklearn.metrics import accuracy_score, confusion_matrix\n",
        "import matplotlib.pyplot as plt\n",
        "import sys\n",
        "print('Done')"
      ],
      "execution_count": null,
      "outputs": [
        {
          "output_type": "stream",
          "name": "stdout",
          "text": [
            "Done\n"
          ]
        }
      ]
    },
    {
      "cell_type": "code",
      "metadata": {
        "id": "u8iK1leqtYPD",
        "colab": {
          "base_uri": "https://localhost:8080/"
        },
        "outputId": "9c3c99d3-b673-43f4-f363-c6833b3f0db3"
      },
      "source": [
        "#--------------------\n",
        "# tunable-parameters\n",
        "#--------------------\n",
        "images_per_class       = 100   #800\n",
        "fixed_size             = tuple((256, 256))\n",
        "train_path             = \"/content/drive/MyDrive/CapstoneData/dataset/ridgegourd\"\n",
        "train_path1             = \"/content/drive/MyDrive/CapstoneData/dataset/ridgegourd\"\n",
        "print('Done')"
      ],
      "execution_count": null,
      "outputs": [
        {
          "output_type": "stream",
          "name": "stdout",
          "text": [
            "Done\n"
          ]
        }
      ]
    },
    {
      "cell_type": "code",
      "metadata": {
        "id": "u45gS9s-RP2I"
      },
      "source": [
        ""
      ],
      "execution_count": null,
      "outputs": []
    },
    {
      "cell_type": "code",
      "metadata": {
        "id": "8-b5IOJwowb6"
      },
      "source": [
        "# Image Segmentation\n",
        "\n",
        "# It separates leaf image from background image\n",
        "def img_segmentation(b):\n",
        "  \n",
        "    pixel_vals = b.flatten()\n",
        "    pixel_vals = np.float32(pixel_vals)\n",
        "    criteria = (cv2.TERM_CRITERIA_EPS + cv2.TERM_CRITERIA_MAX_ITER, 10, 1.0)\n",
        "    # Since we are interested in only actual leaf pixels, we choose 2 clusters\n",
        "    # one cluster for actual leaf pixels and other for unwanted background pixels.\n",
        "    K = 2\n",
        "    retval, labels, centers = cv2.kmeans(pixel_vals, K, None, criteria, 10, cv2.KMEANS_RANDOM_CENTERS)\n",
        "    centers = np.uint8(centers)\n",
        "    segmented_data = centers[labels.flatten()]\n",
        "    segmented_image = segmented_data.reshape((b.shape))\n",
        "    pixel_labels = labels.reshape(img_lab.shape[0], img_lab.shape[1])\n",
        "    pixel_labels = np.uint8(pixel_labels)\n",
        "    ret, components = cv2.connectedComponents(pixel_labels, connectivity=8)\n",
        "    indices = []\n",
        "    for i in range(1, ret):\n",
        "        row, col = np.where(components==i)\n",
        "        indices.append(max(len(row), len(col)))\n",
        "        component = np.argmax(np.array(indices))\n",
        "    main_component = component+1   #indexing starts from 0, so we increment by 1 to get actual component index# creating a mask and extracting pixels corresponding to cluster to which leaf belongs.\n",
        "    # 1 for actual leaf pixels and 0 for other pixels\n",
        "    mask = np.where(components==main_component, 1, 0)\n",
        "    B = image[:, :, 0]\n",
        "    G = image[:, :, 1]\n",
        "    R = image[:, :, 2]# Extract only masked pixels\n",
        "    r = R*mask\n",
        "    g = G*mask\n",
        "    b = B*mask\n",
        "    final_img = np.dstack((r, g, b))\n",
        "    v_sum = np.sum(mask, axis=0)\n",
        "    h_sum = np.sum(mask, axis=1)\n",
        "    w = np.count_nonzero(v_sum)\n",
        "    h = np.count_nonzero(h_sum)\n",
        "    x_indices = np.where(v_sum != 0)\n",
        "    y_indices = np.where(h_sum != 0)\n",
        "    x = x_indices[0][0]\n",
        "    y = y_indices[0][0]\n",
        "    final_crop_img = final_img[y:y+h-1, x:x+w-1, :]\n",
        "    final_crop_img = np.uint8(final_crop_img)\n",
        "    img = cv2.resize(final_crop_img, (256,256), interpolation=cv2.INTER_AREA)\n",
        "    return img\n",
        "    "
      ],
      "execution_count": null,
      "outputs": []
    },
    {
      "cell_type": "code",
      "metadata": {
        "id": "weskBaI2RcwJ"
      },
      "source": [
        "# !fusermount -u drive\n",
        "# !google-drive-ocamlfuse drive"
      ],
      "execution_count": null,
      "outputs": []
    },
    {
      "cell_type": "code",
      "metadata": {
        "colab": {
          "base_uri": "https://localhost:8080/"
        },
        "id": "keKoynyDg2Si",
        "outputId": "bbd9ed6f-6f87-4027-c641-c03734788f1a"
      },
      "source": [
        "# get the training labels\n",
        "train_labels = os.listdir(train_path)\n",
        "#train_labels=[x for x in train_labels if \"Ridge\" in x]\n",
        "\n",
        "# sort the training labels\n",
        "train_labels.sort()\n",
        "print(train_labels)\n",
        "print(\"No of classes\",len(train_path))\n",
        "print('Done')"
      ],
      "execution_count": null,
      "outputs": [
        {
          "output_type": "stream",
          "name": "stdout",
          "text": [
            "['Results', 'imgs_original.npy', 'original.csv', 'sam']\n",
            "No of classes 57\n",
            "Done\n"
          ]
        }
      ]
    },
    {
      "cell_type": "code",
      "metadata": {
        "id": "AHXQw8jERjbL"
      },
      "source": [
        "# # Count no.of images w.r.t each disease\n",
        "img_count = {}\n",
        "for folder in train_labels:\n",
        "    cnt = len(os.listdir(train_labels))\n",
        "    img_count[folder] = cnt\n",
        "# Plotting barplots of no.of leaf images w.r.t each disease\n",
        "plt.bar(img_count.keys(), img_count.values())\n",
        "plt.xticks(rotation='vertical')\n",
        "plt.show()"
      ],
      "execution_count": null,
      "outputs": []
    },
    {
      "cell_type": "code",
      "metadata": {
        "id": "4uYjJKElo3KS"
      },
      "source": [
        "# get the training labels\n",
        "train_labels = os.listdir(train_path)\n",
        "#train_labels=[x for x in train_labels if \"Ridge Gourd\" in x]\n",
        "\n",
        "# sort the training labels\n",
        "train_labels.sort()\n",
        "print(train_labels)\n",
        "print(\"No of classes\",len(train_labels))\n",
        "\n",
        "# empty lists to hold feature vectors and labels\n",
        "global_features = []\n",
        "labels          = []\n",
        "\n",
        "img_names = []\n",
        "img_array = []\n",
        "labels = []\n",
        "\n",
        "# loop over the training data sub-folders\n",
        "for training_name in train_labels:\n",
        "    # join the training data path and each species training folder\n",
        "    #if \"Ridge\" not in training_name:\n",
        "    #    continue\n",
        "    dir = os.path.join(train_path, training_name)\n",
        "\n",
        "    # get the current training label\n",
        "    current_label = training_name\n",
        "    \n",
        "    files=os.listdir(dir)\n",
        "    print(len(files))\n",
        "    nc=images_per_class\n",
        "    if len(files)< images_per_class:\n",
        "      nc=len(files)-1\n",
        "    \n",
        "    print(nc)\n",
        "    # loop over the images in each sub-folder\n",
        "    for x in range(nc+1):\n",
        "        # get the image file name\n",
        "        file = dir + \"/\" + files[x]\n",
        "\n",
        "        # read the image and resize it to a fixed-size\n",
        "        #print(file)\n",
        "        image = cv2.imread(file) # It stores image in BGR format\n",
        "        \n",
        "        \n",
        "        image = cv2.resize(image, fixed_size)\n",
        "\n",
        "        \n",
        "        # Choose Color Channel\n",
        "        img_lab = cv2.cvtColor(image, cv2.COLOR_BGR2LAB)\n",
        "        # Lab Color Space - https://en.wikipedia.org/wiki/CIELAB_color_space\n",
        "        L = img_lab[:, :, 0]\n",
        "        a = img_lab[:, :, 1]\n",
        "        b = img_lab[:, :, 2]\n",
        "        \n",
        "        IMG_SEGMENT   = img_segmentation(b)\n",
        "        im_rgb = cv2.cvtColor(image, cv2.COLOR_BGR2RGB)\n",
        "        im_size = cv2.resize(im_rgb, (144, 144), interpolation=cv2.INTER_AREA)\n",
        "        \n",
        "        img_names.append(im_rgb)\n",
        "        img_array.append(im_size)\n",
        "        labels.append(training_name)\n",
        "\n",
        "df = pd.DataFrame({'Image ID': img_names, 'Class': labels})\n",
        "df.to_csv(train_path1+'/original.csv', index=False)\n",
        "\n",
        "X = np.asarray(img_array)\n",
        "np.save(train_path1+'/imgs_original', X)        \n",
        "\n",
        "\n",
        "data = pd.read_csv(train_path1+'/original.csv')\n",
        "data.head()\n",
        "\n",
        "# Mapping original class labels to integer values\n",
        "# Ex: Bacterial Blight-0, Brown Spot-1, ..etc\n",
        "labels = {}\n",
        "val_cnt = 0\n",
        "for folder in train_labels:\n",
        "    labels[folder] = val_cnt\n",
        "    val_cnt = val_cnt+1\n",
        "X = np.load(train_path1+'/imgs_original.npy')\n",
        "y = data['Class'].map(labels).values\n",
        "data['Image Array'] = X.tolist()\n",
        "data['Labels'] = y\n",
        "data.head()\n",
        "\n",
        "#split the data into train and test data in the ratio of 85:15\n",
        "X = data.drop(['Image ID', 'Class', 'Labels'], axis=1)\n",
        "y = data['Labels']\n",
        "X_tr, X_te, y_tr, y_te = train_test_split(X, y, test_size=0.15, stratify=y, random_state=0)\n",
        "imbalance_train = X_tr.copy()\n",
        "imbalance_train['Labels'] = y_tr\n",
        "imbalance_train['Labels'].value_counts()\n",
        "    \n",
        "\n",
        "#sys.exit(0)    \n",
        "\n",
        "#perform upsampling such that all the classes have same no. of samples\n",
        "majority_class = imbalance_train[imbalance_train.Labels == len(train_labels)-1]# Upsampling for imbalance dataset in python\n",
        "upsampled_classes = [majority_class]\n",
        "minority_labels = list(range(0,len(train_labels)-1))\n",
        "for i in minority_labels:\n",
        "    minority_class = imbalance_train[imbalance_train.Labels == i]\n",
        "    minority_upsampled = resample(minority_class, replace = True,     n_samples = majority_class.shape[0],random_state = 0)    \n",
        "    upsampled_classes.append(minority_upsampled)\n",
        "#sys.exit(0)\n",
        "\n",
        "train_upsampled = pd.concat(upsampled_classes)\n",
        "train_shuffled = train_upsampled.sample(frac=1, random_state=0)\n",
        "X_tr1 = train_shuffled['Image Array'].values\n",
        "y_tr1 = train_shuffled['Labels'].values\n",
        "y_train = keras.utils.np_utils.to_categorical(y_tr1, num_classes=len(train_labels))\n",
        "y_test = keras.utils.np_utils.to_categorical(y_te, num_classes=len(train_labels))\n",
        "train_X = X_tr1.tolist()\n",
        "X_train = np.asarray(train_X)\n",
        "X_te1 = X_te['Image Array'].values\n",
        "test_X = X_te1.tolist()\n",
        "X_test = np.asarray(test_X)# Scaling pixel values - Normalization\n",
        "X_train = X_train.astype('float32')\n",
        "X_test = X_test.astype('float32')\n",
        "X_train = X_train/255\n",
        "X_test = X_test/255    \n",
        "\n",
        "\n",
        "# Performing Data Augmentation on training data\n",
        "datagen = ImageDataGenerator(horizontal_flip=True,vertical_flip=True)\n",
        "datagen.fit(X_train)\n",
        "it_train = datagen.flow(X_train, y_train, batch_size=4)\n",
        "steps = int(X_train.shape[0]/4)\n",
        "\n",
        "# Model parameters\n",
        "input_shape = (144, 144, 3)\n",
        "num_classes = len(train_labels)# Saving model weights and other important parameters\n",
        "checkpoint = ModelCheckpoint(train_path1+\"/Results/model_complex.h5\", monitor=\"val_accuracy\",mode=\"max\", save_best_only=True, verbose=1)\n",
        "tensorboard = TensorBoard(log_dir=train_path1+\"/Results/graph_complex\", histogram_freq=4, batch_size=4,update_freq='epoch',profile_batch = 100000000)\n",
        "callbacks = [checkpoint, tensorboard]# model architecture\n",
        "\n",
        "\n",
        "model1 = Sequential()\n",
        "model1.add(Conv2D(32,(3,3),activation='relu',padding='same',strides=(2,2),kernel_initializer='he_normal',input_shape=input_shape))\n",
        "model1.add(Conv2D(64, (3, 3), activation='relu', padding='same', strides=(1, 1), kernel_initializer='he_normal'))\n",
        "model1.add(MaxPooling2D(pool_size=(2, 2)))\n",
        "model1.add(BatchNormalization())\n",
        "model1.add(Dropout(0.2))\n",
        "model1.add(Conv2D(128, (3, 3), activation='relu', padding='same', strides=(1, 1), kernel_initializer='he_normal'))\n",
        "model1.add(Conv2D(128, (3, 3), activation='relu', padding='same', strides=(1, 1), kernel_initializer='he_normal'))\n",
        "model1.add(Conv2D(256, (3, 3), activation='relu', padding='same', strides=(1, 1), kernel_initializer='he_normal'))\n",
        "model1.add(MaxPooling2D(pool_size=(2, 2)))\n",
        "model1.add(BatchNormalization())\n",
        "model1.add(Dropout(0.3))\n",
        "model1.add(Conv2D(256, (3, 3), activation='relu', padding='same', strides=(1, 1), kernel_initializer='he_normal'))\n",
        "model1.add(Conv2D(256, (3, 3), activation='relu', padding='same', strides=(1, 1), kernel_initializer='he_normal'))\n",
        "model1.add(MaxPooling2D(pool_size=(2, 2)))\n",
        "model1.add(BatchNormalization())\n",
        "model1.add(Dropout(0.3))\n",
        "model1.add(Flatten())\n",
        "model1.add(Dense(512,activation='relu',kernel_initializer='he_normal'))\n",
        "model1.add(Dropout(0.5))\n",
        "model1.add(Dense(128,activation='relu',kernel_initializer='he_normal'))\n",
        "model1.add(Dropout(0.5))\n",
        "model1.add(Dense(64,activation='relu',kernel_initializer='he_normal'))\n",
        "model1.add(Dense(num_classes, activation='softmax'))\n",
        "model1.compile(loss='categorical_crossentropy', optimizer='Adam', metrics=['accuracy'])\n",
        "model1.summary()# fitting the model on training data.\n",
        "history = model1.fit_generator(it_train,steps_per_epoch=steps,epochs=1, validation_data=(X_test, y_test),verbose=1, callbacks=callbacks)\n",
        "# sns.set()\n",
        "\n",
        "plt.plot(history.history['accuracy'], 'r')\n",
        "plt.plot(history.history['val_accuracy'], 'b')\n",
        "plt.legend({'Train Accuracy': 'r', 'Test Accuracy':'b'})\n",
        "plt.show()\n",
        "\n",
        "plt.plot(history.history['loss'], 'r')\n",
        "plt.plot(history.history['val_loss'], 'b')\n",
        "plt.legend({'Train Loss': 'r', 'Test Loss':'b'})\n",
        "plt.show()\n",
        "\n",
        "\n",
        "model1.load_weights(train_path1+'/Results/model_complex.h5')\n",
        "y_pred_tr = model1.predict(X_train)\n",
        "y_tr2 = y_train.argmax(1)\n",
        "y_pred_tr = y_pred_tr.argmax(1)\n",
        "train_acc = accuracy_score(y_tr2, y_pred_tr)\n",
        "y_pred = model1.predict(X_test)\n",
        "y_te2 = y_test.argmax(1)\n",
        "y_pred = y_pred.argmax(1)\n",
        "test_acc = accuracy_score(y_te2, y_pred)\n",
        "print(\"Train Accuracy : \", train_acc)\n",
        "print(\"Test Accuracy : \", test_acc)\n",
        "print('Done')"
      ],
      "execution_count": null,
      "outputs": []
    },
    {
      "cell_type": "code",
      "metadata": {
        "id": "nTI_KGq7TEFz"
      },
      "source": [
        ""
      ],
      "execution_count": null,
      "outputs": []
    },
    {
      "cell_type": "code",
      "metadata": {
        "id": "TWUVt000tiwk",
        "colab": {
          "base_uri": "https://localhost:8080/",
          "height": 513
        },
        "outputId": "39136447-f114-4c94-d673-81c4ad5f9c07"
      },
      "source": [
        "plt.plot(history.history['accuracy'], 'r')\n",
        "plt.plot(history.history['val_accuracy'], 'b')\n",
        "plt.legend({'Train Accuracy': 'r', 'Test Accuracy':'b'})\n",
        "plt.show()\n",
        "plt.plot(history.history['loss'], 'r')\n",
        "plt.plot(history.history['val_loss'], 'b')\n",
        "plt.legend({'Train Loss': 'r', 'Test Loss':'b'})\n",
        "plt.show()"
      ],
      "execution_count": null,
      "outputs": [
        {
          "output_type": "display_data",
          "data": {
            "image/png": "[encoded data removed]",
            "text/plain": [
              "<Figure size 432x288 with 1 Axes>"
            ]
          },
          "metadata": {
            "needs_background": "light"
          }
        },
        {
          "output_type": "display_data",
          "data": {
            "image/png": "[encoded data removed]",
            "text/plain": [
              "<Figure size 432x288 with 1 Axes>"
            ]
          },
          "metadata": {
            "needs_background": "light"
          }
        }
      ]
    },
    {
      "cell_type": "code",
      "metadata": {
        "id": "S1IyOpl9THpq"
      },
      "source": [
        ""
      ],
      "execution_count": null,
      "outputs": []
    },
    {
      "cell_type": "code",
      "metadata": {
        "id": "G4Dbl9UbtrGA"
      },
      "source": [
        "# model1.load_weights(train_path1+'/Results/model_complex.h5')\n",
        "# y_pred_tr = model1.predict(X_train)\n",
        "# y_tr2 = y_train.argmax(1)\n",
        "# y_pred_tr = y_pred_tr.argmax(1)\n",
        "# train_acc = accuracy_score(y_tr2, y_pred_tr)\n",
        "# y_pred = model1.predict(X_test)\n",
        "# y_te2 = y_test.argmax(1)\n",
        "# y_pred = y_pred.argmax(1)\n",
        "# test_acc = accuracy_score(y_te2, y_pred)\n",
        "# print(\"Train Accuracy : \", train_acc)\n",
        "# print(\"Test Accuracy : \", test_acc)"
      ],
      "execution_count": null,
      "outputs": []
    }
  ]
}